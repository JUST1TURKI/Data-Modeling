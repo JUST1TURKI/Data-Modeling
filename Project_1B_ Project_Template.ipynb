{
 "cells": [
  {
   "cell_type": "markdown",
   "metadata": {},
   "source": [
    "# Part I. ETL Pipeline for Pre-Processing the Files"
   ]
  },
  {
   "cell_type": "markdown",
   "metadata": {},
   "source": [
    "#### Import Python packages "
   ]
  },
  {
   "cell_type": "code",
   "execution_count": 1,
   "metadata": {},
   "outputs": [],
   "source": [
    "# Import Python packages \n",
    "import pandas as pd\n",
    "import cassandra\n",
    "import re\n",
    "import os\n",
    "import glob\n",
    "import numpy as np\n",
    "import json\n",
    "import csv"
   ]
  },
  {
   "cell_type": "markdown",
   "metadata": {},
   "source": [
    "#### Creating list of filepaths to process original event csv data files"
   ]
  },
  {
   "cell_type": "code",
   "execution_count": 2,
   "metadata": {},
   "outputs": [
    {
     "name": "stdout",
     "output_type": "stream",
     "text": [
      "/workspace/home\n"
     ]
    }
   ],
   "source": [
    "# checking your current working directory\n",
    "print(os.getcwd())\n",
    "\n",
    "# Get your current folder and subfolder event data\n",
    "filepath = os.getcwd() + '/event_data'\n",
    "\n",
    "# Create a for loop to create a list of files and collect each filepath\n",
    "for root, dirs, files in os.walk(filepath):\n",
    "    \n",
    "# join the file path and roots with the subdirectories using glob\n",
    "    file_path_list = glob.glob(os.path.join(root,'*'))\n",
    "    #print(file_path_list)"
   ]
  },
  {
   "cell_type": "markdown",
   "metadata": {},
   "source": [
    "#### Processing the files to create the data file csv that will be used for Apache Casssandra tables"
   ]
  },
  {
   "cell_type": "code",
   "execution_count": 3,
   "metadata": {},
   "outputs": [],
   "source": [
    "# initiating an empty list of rows that will be generated from each file\n",
    "full_data_rows_list = [] \n",
    "    \n",
    "# for every filepath in the file path list \n",
    "for f in file_path_list:\n",
    "\n",
    "# reading csv file \n",
    "    with open(f, 'r', encoding = 'utf8', newline='') as csvfile: \n",
    "        # creating a csv reader object \n",
    "        csvreader = csv.reader(csvfile) \n",
    "        next(csvreader)\n",
    "        \n",
    " # extracting each data row one by one and append it        \n",
    "        for line in csvreader:\n",
    "            #print(line)\n",
    "            full_data_rows_list.append(line) \n",
    "            \n",
    "# uncomment the code below if you would like to get total number of rows \n",
    "#print(len(full_data_rows_list))\n",
    "# uncomment the code below if you would like to check to see what the list of event data rows will look like\n",
    "#print(full_data_rows_list)\n",
    "\n",
    "# creating a smaller event data csv file called event_datafile_full csv that will be used to insert data into the \\\n",
    "# Apache Cassandra tables\n",
    "csv.register_dialect('myDialect', quoting=csv.QUOTE_ALL, skipinitialspace=True)\n",
    "\n",
    "with open('event_datafile_new.csv', 'w', encoding = 'utf8', newline='') as f:\n",
    "    writer = csv.writer(f, dialect='myDialect')\n",
    "    writer.writerow(['artist','firstName','gender','itemInSession','lastName','length',\\\n",
    "                'level','location','sessionId','song','userId'])\n",
    "    for row in full_data_rows_list:\n",
    "        if (row[0] == ''):\n",
    "            continue\n",
    "        writer.writerow((row[0], row[2], row[3], row[4], row[5], row[6], row[7], row[8], row[12], row[13], row[16]))\n"
   ]
  },
  {
   "cell_type": "code",
   "execution_count": 4,
   "metadata": {},
   "outputs": [
    {
     "name": "stdout",
     "output_type": "stream",
     "text": [
      "6821\n"
     ]
    }
   ],
   "source": [
    "# check the number of rows in your csv file\n",
    "with open('event_datafile_new.csv', 'r', encoding = 'utf8') as f:\n",
    "    print(sum(1 for line in f))"
   ]
  },
  {
   "cell_type": "markdown",
   "metadata": {},
   "source": [
    "# Part II. Complete the Apache Cassandra coding portion of your project. \n",
    "\n",
    "### The event_datafile_new.csv contains the following columns: \n",
    "- artist \n",
    "- firstName of user\n",
    "- gender of user\n",
    "- item number in session\n",
    "- last name of user\n",
    "- length of the song\n",
    "- level (paid or free song)\n",
    "- location of the user\n",
    "- sessionId\n",
    "- song title\n",
    "- userId\n"
   ]
  },
  {
   "cell_type": "markdown",
   "metadata": {},
   "source": [
    "#### Creating a Cluster"
   ]
  },
  {
   "cell_type": "code",
   "execution_count": 5,
   "metadata": {},
   "outputs": [],
   "source": [
    "# This should make a connection to a Cassandra instance your local machine \n",
    "# (127.0.0.1)\n",
    "\n",
    "from cassandra.cluster import Cluster\n",
    "cluster = Cluster()\n",
    "\n",
    "# To establish connection and begin executing queries, need a session\n",
    "session = cluster.connect()"
   ]
  },
  {
   "cell_type": "markdown",
   "metadata": {},
   "source": [
    "#### Create Keyspace"
   ]
  },
  {
   "cell_type": "code",
   "execution_count": 6,
   "metadata": {},
   "outputs": [],
   "source": [
    "# The following block of code is an attempt to create a keyspace named 'udacity' if it doesn't already exist.\n",
    "# Keyspaces in Apache Cassandra are analogous to databases in traditional relational databases.\n",
    "\n",
    "# The 'try' block is used to catch any exceptions that may occur during the execution of the code.\n",
    "try:\n",
    "    # Using the Cassandra session.execute() method to execute a CQL (Cassandra Query Language) command.\n",
    "    # The command is creating a keyspace named 'udacity' if it doesn't already exist.\n",
    "    session.execute(\"\"\"\n",
    "        CREATE KEYSPACE IF NOT EXISTS udacity \n",
    "        WITH REPLICATION = \n",
    "        { 'class' : 'SimpleStrategy', 'replication_factor' : 1 }\"\"\"\n",
    "    )\n",
    "\n",
    "# If an exception occurs during the execution of the code within the 'try' block, it will be caught here.\n",
    "except Exception as e:\n",
    "    # Print the exception that occurred. This helps in identifying and debugging issues.\n",
    "    print(e)\n"
   ]
  },
  {
   "cell_type": "markdown",
   "metadata": {},
   "source": [
    "#### Set Keyspace"
   ]
  },
  {
   "cell_type": "code",
   "execution_count": 7,
   "metadata": {},
   "outputs": [],
   "source": [
    "# The following block of code is an attempt to set the keyspace for the Cassandra session to 'udacity'.\n",
    "# This is crucial because subsequent queries and operations will be performed within this keyspace.\n",
    "\n",
    "# The 'try' block is used to catch any exceptions that may occur during the execution of the code.\n",
    "try:\n",
    "    # Using the Cassandra session.set_keyspace() method to set the keyspace to 'udacity'.\n",
    "    session.set_keyspace('udacity')\n",
    "\n",
    "# If an exception occurs during the execution of the code within the 'try' block, it will be caught here.\n",
    "except Exception as e:\n",
    "    # Print the exception that occurred. This helps in identifying and debugging issues.\n",
    "    print(e)\n"
   ]
  },
  {
   "cell_type": "markdown",
   "metadata": {},
   "source": [
    "\n",
    "##### 1. Give me the artist, song title and song's length in the music app history that was heard during  sessionId = 338, and itemInSession  = 4\n",
    "\n",
    "\n",
    "##### 2. Give me only the following: name of artist, song (sorted by itemInSession) and user (first and last name) for userid = 10, sessionid = 182\n",
    "    \n",
    "\n",
    "##### 3. Give me every user name (first and last) in my music app history who listened to the song 'All Hands Against His Own'\n",
    "\n",
    "\n"
   ]
  },
  {
   "cell_type": "code",
   "execution_count": 8,
   "metadata": {},
   "outputs": [
    {
     "data": {
      "text/plain": [
       "<cassandra.cluster.ResultSet at 0x7fc91ab691d0>"
      ]
     },
     "execution_count": 8,
     "metadata": {},
     "output_type": "execute_result"
    }
   ],
   "source": [
    "# Create a table named 'music_app_history' with sessionId as the partition key\n",
    "# and itemInSession as the clustering column\n",
    "query = \"CREATE TABLE IF NOT EXISTS music_app_history\"\n",
    "query += \"(sessionId int, itemInSession int, artist text, song text, length float, PRIMARY KEY(sessionId, itemInSession))\"\n",
    "session.execute(query)\n"
   ]
  },
  {
   "cell_type": "code",
   "execution_count": 9,
   "metadata": {
    "scrolled": false
   },
   "outputs": [],
   "source": [
    "# The following block of code reads data from a CSV file ('event_datafile_new.csv')\n",
    "# and inserts the relevant information into the 'music_app_history' table in Apache Cassandra.\n",
    "\n",
    "# Specify the path to the CSV file\n",
    "file = 'event_datafile_new.csv'\n",
    "\n",
    "# Open the CSV file in read mode with UTF-8 encoding\n",
    "with open(file, encoding='utf8') as f:\n",
    "    # Create a CSV reader object\n",
    "    csvreader = csv.reader(f)\n",
    "    \n",
    "    # Skip the header row in the CSV file\n",
    "    next(csvreader)\n",
    "    \n",
    "    # Iterate through each line in the CSV file\n",
    "    for line in csvreader:\n",
    "        # Construct the INSERT statement for the 'music_app_history' table\n",
    "        query = \"INSERT INTO music_app_history(sessionId, itemInSession, artist, song, length)\"\n",
    "        query = query + \" VALUES (%s, %s, %s, %s, %s)\"\n",
    "        \n",
    "        # Execute the INSERT statement with data from the current line of the CSV file\n",
    "        session.execute(query, (int(line[8]), int(line[3]), line[0], line[9], float(line[5])))\n"
   ]
  },
  {
   "cell_type": "code",
   "execution_count": 10,
   "metadata": {
    "scrolled": true
   },
   "outputs": [
    {
     "name": "stdout",
     "output_type": "stream",
     "text": [
      "Faithless Music Matters (Mark Knight Dub) 495.30731201171875\n"
     ]
    }
   ],
   "source": [
    "# The following block of code is a SELECT statement to verify that data was successfully entered\n",
    "# into the 'music_app_history' table in Apache Cassandra.\n",
    "\n",
    "# Construct the SELECT statement to retrieve data for a specific sessionId and itemInSession\n",
    "query = \"SELECT artist, song, length FROM music_app_history WHERE sessionId = 338 AND itemInSession = 4\"\n",
    "\n",
    "# Execute the SELECT statement and retrieve the result set\n",
    "rows = session.execute(query)\n",
    "\n",
    "# Iterate through the result set and print the artist, song, and length\n",
    "for row in rows:\n",
    "    # Access the columns of the result row using dot notation\n",
    "    print(row.artist, row.song, row.length)\n"
   ]
  },
  {
   "cell_type": "code",
   "execution_count": 11,
   "metadata": {},
   "outputs": [],
   "source": [
    "# The following block of code is creating a table named 'artist_song_user_music_app_history'\n",
    "# in Apache Cassandra. This table is designed to store information about the artist, song, and user\n",
    "# for a given userId and sessionId, sorted by itemInSession.\n",
    "\n",
    "# The CQL (Cassandra Query Language) command for creating the table is constructed as a string.\n",
    "query = \"CREATE TABLE IF NOT EXISTS artist_song_user_music_app_history \"\n",
    "query = query + \"(userId int, sessionId int, itemInSession int, artist text, song text, firstName text, lastName text, PRIMARY KEY (userId, sessionId), itemInSession )\"\n",
    "\n",
    "# Using the Cassandra session.execute() method to execute the CQL command and create the table.\n",
    "session.execute(query)\n",
    "\n",
    "# Specify the path to the CSV file\n",
    "file = 'event_datafile_new.csv'\n",
    "\n",
    "# Open the CSV file in read mode with UTF-8 encoding\n",
    "with open(file, encoding='utf8') as f:\n",
    "    # Create a CSV reader object\n",
    "    csvreader = csv.reader(f)\n",
    "    \n",
    "    # Skip the header row in the CSV file\n",
    "    next(csvreader)\n",
    "    \n",
    "    # Iterate through each line in the CSV file\n",
    "    for line in csvreader:\n",
    "        # Construct the INSERT statement for the 'artist_song_user_music_app_history' table\n",
    "        query = \"INSERT INTO artist_song_user_music_app_history (userId, sessionId, artist, song, itemInSession, firstName, lastName)\"\n",
    "        query = query + \" VALUES (%s, %s, %s, %s, %s, %s, %s)\"\n",
    "        \n",
    "        # Execute the INSERT statement with data from the current line of the CSV file\n",
    "        session.execute(query, (int(line[10]), int(line[8]), line[0], line[9], int(line[3]), line[1], line[4]))\n"
   ]
  },
  {
   "cell_type": "code",
   "execution_count": 12,
   "metadata": {},
   "outputs": [
    {
     "name": "stdout",
     "output_type": "stream",
     "text": [
      "Lonnie Gordon Catch You Baby (Steve Pitron & Max Sanna Radio Edit) Sylvie Cruz\n"
     ]
    }
   ],
   "source": [
    "# The following block of code is a SELECT statement to retrieve every user name\n",
    "# (first and last) in the 'artist_song_user_music_app_history' table\n",
    "# for users who listened to the song 'All Hands Against His Own'.\n",
    "\n",
    "# Construct the SELECT statement to retrieve user names for a specific song\n",
    "query = \"SELECT artist, song, firstName, lastName FROM artist_song_user_music_app_history WHERE song = 'All Hands Against His Own'\"\n",
    "\n",
    "# Execute the SELECT statement and retrieve the result set\n",
    "rows = session.execute(query)\n",
    "\n",
    "# Iterate through the result set and print the artist, song, firstName, and lastName\n",
    "for row in rows:\n",
    "    # Access the columns of the result row using dot notation\n",
    "    print(row.artist, row.song, row.firstname, row.lastname)\n"
   ]
  },
  {
   "cell_type": "code",
   "execution_count": 13,
   "metadata": {},
   "outputs": [],
   "source": [
    "# The following block of code is creating a table named 'user_song_song_app_history'\n",
    "# in Apache Cassandra. This table is designed to store information about the song, userId,\n",
    "# and user names (first and last) for a given song.\n",
    "\n",
    "# The CQL (Cassandra Query Language) command for creating the table is constructed as a string.\n",
    "query = \"CREATE TABLE IF NOT EXISTS user_song_song_app_history \"\n",
    "query = query + \"(song text, userId int, firstName text, lastName text, PRIMARY KEY (song, userId))\"\n",
    "\n",
    "# Using the Cassandra session.execute() method to execute the CQL command and create the table.\n",
    "session.execute(query)\n",
    "\n",
    "# Specify the path to the CSV file\n",
    "file = 'event_datafile_new.csv'\n",
    "\n",
    "# Open the CSV file in read mode with UTF-8 encoding\n",
    "with open(file, encoding='utf8') as f:\n",
    "    # Create a CSV reader object\n",
    "    csvreader = csv.reader(f)\n",
    "    \n",
    "    # Skip the header row in the CSV file\n",
    "    next(csvreader)\n",
    "    \n",
    "    # Iterate through each line in the CSV file\n",
    "    for line in csvreader:\n",
    "        # Construct the INSERT statement for the 'user_song_song_app_history' table\n",
    "        query = \"INSERT INTO user_song_song_app_history (song, userId, firstName, lastName)\"\n",
    "        query = query + \" VALUES (%s, %s, %s, %s)\"\n",
    "        \n",
    "        # Execute the INSERT statement with data from the current line of the CSV file\n",
    "        session.execute(query, (line[9], int(line[10]), line[1], line[4]))\n"
   ]
  },
  {
   "cell_type": "code",
   "execution_count": 14,
   "metadata": {},
   "outputs": [
    {
     "name": "stdout",
     "output_type": "stream",
     "text": [
      "Jacqueline Lynch\n",
      "Tegan Levine\n",
      "Sara Johnson\n"
     ]
    }
   ],
   "source": [
    "# The following block of code is a SELECT statement to retrieve every user name\n",
    "# (first and last) in the 'user_song_song_app_history' table\n",
    "# for users who listened to the song 'All Hands Against His Own'.\n",
    "\n",
    "# Construct the SELECT statement to retrieve user names for a specific song\n",
    "query = \"SELECT firstName, lastName FROM user_song_song_app_history WHERE song='All Hands Against His Own'\"\n",
    "\n",
    "# Execute the SELECT statement and retrieve the result set\n",
    "rows = session.execute(query)\n",
    "\n",
    "# Iterate through the result set and print the firstName and lastName\n",
    "for row in rows:\n",
    "    # Access the columns of the result row using dot notation\n",
    "    print(row.firstname, row.lastname)\n"
   ]
  },
  {
   "cell_type": "code",
   "execution_count": 17,
   "metadata": {},
   "outputs": [
    {
     "data": {
      "text/plain": [
       "<cassandra.cluster.ResultSet at 0x7fc91aabad68>"
      ]
     },
     "execution_count": 17,
     "metadata": {},
     "output_type": "execute_result"
    }
   ],
   "source": [
    "# The following block of code is using the Cassandra session.execute() method\n",
    "# to drop the tables 'music_app_history', 'artist_song_user_music_app_history', and 'user_song_song_app_history'.\n",
    "\n",
    "# Drop the 'music_app_history' table\n",
    "session.execute(\"DROP TABLE IF EXISTS music_app_history\")\n",
    "\n",
    "# Drop the 'artist_song_user_music_app_history' table\n",
    "session.execute(\"DROP TABLE IF EXISTS artist_song_user_music_app_history\")\n",
    "\n",
    "# Drop the 'user_song_song_app_history' table\n",
    "session.execute(\"DROP TABLE IF EXISTS user_song_song_app_history\")\n"
   ]
  },
  {
   "cell_type": "code",
   "execution_count": 18,
   "metadata": {},
   "outputs": [],
   "source": [
    "# The following block of code is used to shut down the Cassandra session and cluster connections.\n",
    "\n",
    "# Shut down the Cassandra session\n",
    "session.shutdown()\n",
    "\n",
    "# Shut down the Cassandra cluster\n",
    "cluster.shutdown()\n"
   ]
  }
 ],
 "metadata": {
  "kernelspec": {
   "display_name": "Python 3 (ipykernel)",
   "language": "python",
   "name": "python3"
  },
  "language_info": {
   "codemirror_mode": {
    "name": "ipython",
    "version": 3
   },
   "file_extension": ".py",
   "mimetype": "text/x-python",
   "name": "python",
   "nbconvert_exporter": "python",
   "pygments_lexer": "ipython3",
   "version": "3.9.13"
  }
 },
 "nbformat": 4,
 "nbformat_minor": 2
}
